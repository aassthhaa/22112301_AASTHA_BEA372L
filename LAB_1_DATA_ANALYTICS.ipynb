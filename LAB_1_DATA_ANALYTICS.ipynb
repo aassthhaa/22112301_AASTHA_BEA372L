{
  "cells": [
    {
      "cell_type": "code",
      "execution_count": null,
      "metadata": {
        "colab": {
          "base_uri": "https://localhost:8080/"
        },
        "id": "GZbRoWlbuUsj",
        "outputId": "b5033c20-a5ab-4065-d754-c2c1fb90a34a"
      },
      "outputs": [
        {
          "name": "stdout",
          "output_type": "stream",
          "text": [
            "\"age\";\"job\";\"marital\";\"education\";\"default\";\"balance\";\"housing\";\"loan\";\"contact\";\"day\";\"month\";\"duration\";\"campaign\";\"pdays\";\"previous\";\"poutcome\";\"y\"\n",
            "\n"
          ]
        }
      ],
      "source": [
        "#open the given dataset\n",
        "file = open(\"bank.csv\",\"r\")\n",
        "\n",
        "#Print the headers in the file\n",
        "print(file.readline())\n",
        "data = file.readlines()\n",
        "\n"
      ]
    },
    {
      "cell_type": "markdown",
      "metadata": {
        "id": "ymRX2gUPy8HB"
      },
      "source": [
        "Find the count of customers in each category 'marital'."
      ]
    },
    {
      "cell_type": "code",
      "execution_count": null,
      "metadata": {
        "id": "TtqoW75IAEH8"
      },
      "outputs": [],
      "source": [
        "def count_marital_status(data):\n",
        "    married_count = 0\n",
        "    single_count = 0\n",
        "    divorced_count = 0\n",
        "\n",
        "    for i in data:\n",
        "        col = i.split(';')\n",
        "        marital = col[2].strip('\"')\n",
        "        if marital == 'married':\n",
        "            married_count += 1\n",
        "        elif marital == 'single':\n",
        "            single_count += 1\n",
        "        elif marital == 'divorced':\n",
        "            divorced_count += 1\n",
        "\n",
        "    print(\"Marital Categories:\")\n",
        "    print(\"Married:\", married_count)\n",
        "    print(\"Single:\", single_count)\n",
        "    print(\"Divorced:\", divorced_count)\n"
      ]
    },
    {
      "cell_type": "code",
      "execution_count": null,
      "metadata": {
        "colab": {
          "background_save": true,
          "base_uri": "https://localhost:8080/"
        },
        "id": "VHkpFAUKAI3B",
        "outputId": "41a6b21c-c1ca-4178-a90c-f96dec0155c4"
      },
      "outputs": [
        {
          "name": "stdout",
          "output_type": "stream",
          "text": [
            "Choose any:\n",
            "1. Count Marital Status\n",
            "2. Create Age Histogram\n",
            "3. Exit\n"
          ]
        }
      ],
      "source": [
        "def menu():\n",
        "    while True:\n",
        "        print(\"Choose any:\")\n",
        "        print(\"1. Count Marital Status\")\n",
        "        print(\"2. Create Age Histogram\")\n",
        "        print(\"3. Exit\")\n",
        "\n",
        "        choice = input(\"Enter your choice (1-3): \")\n",
        "\n",
        "        if choice == '1':\n",
        "            count_marital_status(data)\n",
        "        elif choice == '2':\n",
        "            create_age_histogram(data)\n",
        "        elif choice == '3':\n",
        "            break\n",
        "        else:\n",
        "            print(\"Invalid choice. Please try again.\")\n",
        "\n",
        "menu()"
      ]
    },
    {
      "cell_type": "code",
      "execution_count": null,
      "metadata": {
        "id": "Ixv33_OlAMyu"
      },
      "outputs": [],
      "source": [
        "def create_age_histogram(data):\n",
        "    age_count = {}\n",
        "\n",
        "    for i in data:\n",
        "        col = i.split(';')\n",
        "        age = int(count[0])\n",
        "        if age in age_count:\n",
        "            age_count[age] += 1\n",
        "        else:\n",
        "            age_count[age] = 1\n",
        "\n",
        "    print(\"Age Histogram:\")\n",
        "    for age, count in age_count.items():\n",
        "        print(f\"{age}: {'=' * count}\")\n"
      ]
    }
  ],
  "metadata": {
    "colab": {
      "provenance": []
    },
    "kernelspec": {
      "display_name": "Python 3",
      "name": "python3"
    },
    "language_info": {
      "name": "python"
    }
  },
  "nbformat": 4,
  "nbformat_minor": 0
}